{
 "cells": [
  {
   "cell_type": "code",
   "execution_count": 1,
   "metadata": {},
   "outputs": [],
   "source": [
    "import numpy as np\n",
    "import pandas as pd"
   ]
  },
  {
   "cell_type": "code",
   "execution_count": 2,
   "metadata": {},
   "outputs": [],
   "source": [
    "works_df = pd.read_csv('20210226-stats/works-20210226.csv')\n",
    "works_df.shape"
   ]
  },
  {
   "cell_type": "code",
   "execution_count": null,
   "metadata": {},
   "outputs": [],
   "source": [
    "tag_df = pd.read_csv('20210226-stats/tags-20210226.csv')\n",
    "tag_df.shape"
   ]
  },
  {
   "cell_type": "code",
   "execution_count": 6,
   "metadata": {},
   "outputs": [
    {
     "data": {
      "text/html": [
       "<div>\n",
       "<style scoped>\n",
       "    .dataframe tbody tr th:only-of-type {\n",
       "        vertical-align: middle;\n",
       "    }\n",
       "\n",
       "    .dataframe tbody tr th {\n",
       "        vertical-align: top;\n",
       "    }\n",
       "\n",
       "    .dataframe thead th {\n",
       "        text-align: right;\n",
       "    }\n",
       "</style>\n",
       "<table border=\"1\" class=\"dataframe\">\n",
       "  <thead>\n",
       "    <tr style=\"text-align: right;\">\n",
       "      <th></th>\n",
       "      <th>creation date</th>\n",
       "      <th>language</th>\n",
       "      <th>restricted</th>\n",
       "      <th>complete</th>\n",
       "      <th>word_count</th>\n",
       "      <th>tags</th>\n",
       "      <th>Unnamed: 6</th>\n",
       "    </tr>\n",
       "  </thead>\n",
       "  <tbody>\n",
       "    <tr>\n",
       "      <th>4270923</th>\n",
       "      <td>2017-08-04</td>\n",
       "      <td>en</td>\n",
       "      <td>False</td>\n",
       "      <td>False</td>\n",
       "      <td>743.0</td>\n",
       "      <td>10+582724+10916959+23+16+511378+2572+17678559+...</td>\n",
       "      <td>NaN</td>\n",
       "    </tr>\n",
       "    <tr>\n",
       "      <th>4996396</th>\n",
       "      <td>2016-08-18</td>\n",
       "      <td>en</td>\n",
       "      <td>False</td>\n",
       "      <td>True</td>\n",
       "      <td>50104.0</td>\n",
       "      <td>10+16+236208+2271+67567</td>\n",
       "      <td>NaN</td>\n",
       "    </tr>\n",
       "    <tr>\n",
       "      <th>6107673</th>\n",
       "      <td>2014-09-13</td>\n",
       "      <td>en</td>\n",
       "      <td>False</td>\n",
       "      <td>True</td>\n",
       "      <td>242.0</td>\n",
       "      <td>10+23+16+258526+272025+1458088+575891+7844+642...</td>\n",
       "      <td>NaN</td>\n",
       "    </tr>\n",
       "    <tr>\n",
       "      <th>2208168</th>\n",
       "      <td>2019-10-10</td>\n",
       "      <td>en</td>\n",
       "      <td>False</td>\n",
       "      <td>False</td>\n",
       "      <td>2309.0</td>\n",
       "      <td>9+603694+34069180+2935013+4766949+35658584+116...</td>\n",
       "      <td>NaN</td>\n",
       "    </tr>\n",
       "    <tr>\n",
       "      <th>6036628</th>\n",
       "      <td>2014-11-13</td>\n",
       "      <td>en</td>\n",
       "      <td>False</td>\n",
       "      <td>True</td>\n",
       "      <td>1381.0</td>\n",
       "      <td>11+24+14+2730336+2739831+2739852+2902719+29027...</td>\n",
       "      <td>NaN</td>\n",
       "    </tr>\n",
       "  </tbody>\n",
       "</table>\n",
       "</div>"
      ],
      "text/plain": [
       "        creation date language  restricted  complete  word_count  \\\n",
       "4270923    2017-08-04       en       False     False       743.0   \n",
       "4996396    2016-08-18       en       False      True     50104.0   \n",
       "6107673    2014-09-13       en       False      True       242.0   \n",
       "2208168    2019-10-10       en       False     False      2309.0   \n",
       "6036628    2014-11-13       en       False      True      1381.0   \n",
       "\n",
       "                                                      tags  Unnamed: 6  \n",
       "4270923  10+582724+10916959+23+16+511378+2572+17678559+...         NaN  \n",
       "4996396                            10+16+236208+2271+67567         NaN  \n",
       "6107673  10+23+16+258526+272025+1458088+575891+7844+642...         NaN  \n",
       "2208168  9+603694+34069180+2935013+4766949+35658584+116...         NaN  \n",
       "6036628  11+24+14+2730336+2739831+2739852+2902719+29027...         NaN  "
      ]
     },
     "execution_count": 6,
     "metadata": {},
     "output_type": "execute_result"
    }
   ],
   "source": [
    "works_df.sample(5)"
   ]
  },
  {
   "cell_type": "code",
   "execution_count": 13,
   "metadata": {
    "scrolled": true
   },
   "outputs": [
    {
     "data": {
      "text/html": [
       "<div>\n",
       "<style scoped>\n",
       "    .dataframe tbody tr th:only-of-type {\n",
       "        vertical-align: middle;\n",
       "    }\n",
       "\n",
       "    .dataframe tbody tr th {\n",
       "        vertical-align: top;\n",
       "    }\n",
       "\n",
       "    .dataframe thead th {\n",
       "        text-align: right;\n",
       "    }\n",
       "</style>\n",
       "<table border=\"1\" class=\"dataframe\">\n",
       "  <thead>\n",
       "    <tr style=\"text-align: right;\">\n",
       "      <th></th>\n",
       "      <th>id</th>\n",
       "      <th>type</th>\n",
       "      <th>name</th>\n",
       "      <th>canonical</th>\n",
       "      <th>cached_count</th>\n",
       "      <th>merger_id</th>\n",
       "    </tr>\n",
       "  </thead>\n",
       "  <tbody>\n",
       "    <tr>\n",
       "      <th>7277085</th>\n",
       "      <td>27723904</td>\n",
       "      <td>Relationship</td>\n",
       "      <td>Redacted</td>\n",
       "      <td>False</td>\n",
       "      <td>1</td>\n",
       "      <td>736900.0</td>\n",
       "    </tr>\n",
       "    <tr>\n",
       "      <th>13896556</th>\n",
       "      <td>53236626</td>\n",
       "      <td>Freeform</td>\n",
       "      <td>Redacted</td>\n",
       "      <td>False</td>\n",
       "      <td>1</td>\n",
       "      <td>NaN</td>\n",
       "    </tr>\n",
       "    <tr>\n",
       "      <th>2791961</th>\n",
       "      <td>9009502</td>\n",
       "      <td>Freeform</td>\n",
       "      <td>Redacted</td>\n",
       "      <td>False</td>\n",
       "      <td>1</td>\n",
       "      <td>NaN</td>\n",
       "    </tr>\n",
       "    <tr>\n",
       "      <th>10632003</th>\n",
       "      <td>40901638</td>\n",
       "      <td>Freeform</td>\n",
       "      <td>Redacted</td>\n",
       "      <td>False</td>\n",
       "      <td>2</td>\n",
       "      <td>NaN</td>\n",
       "    </tr>\n",
       "    <tr>\n",
       "      <th>13538383</th>\n",
       "      <td>51920916</td>\n",
       "      <td>Freeform</td>\n",
       "      <td>Redacted</td>\n",
       "      <td>False</td>\n",
       "      <td>1</td>\n",
       "      <td>NaN</td>\n",
       "    </tr>\n",
       "  </tbody>\n",
       "</table>\n",
       "</div>"
      ],
      "text/plain": [
       "                id          type      name  canonical  cached_count  merger_id\n",
       "7277085   27723904  Relationship  Redacted      False             1   736900.0\n",
       "13896556  53236626      Freeform  Redacted      False             1        NaN\n",
       "2791961    9009502      Freeform  Redacted      False             1        NaN\n",
       "10632003  40901638      Freeform  Redacted      False             2        NaN\n",
       "13538383  51920916      Freeform  Redacted      False             1        NaN"
      ]
     },
     "execution_count": 13,
     "metadata": {},
     "output_type": "execute_result"
    }
   ],
   "source": [
    "tag_df.sample(5)"
   ]
  },
  {
   "cell_type": "code",
   "execution_count": 14,
   "metadata": {},
   "outputs": [
    {
     "data": {
      "text/plain": [
       "Redacted                                    12845163\n",
       "张继科/马龙                                             1\n",
       "Pearl/Blue Pearl/Yellow Pearl                      1\n",
       "Archibald Craven/Neville Craven                    1\n",
       "Kanda Yuu/Lavi/Tyki Mikk/Allen Walker              1\n",
       "                                              ...   \n",
       "Discussion of suicidal ideation                    1\n",
       "Chuck Testa                                        1\n",
       "Seo Sangwon | Yano/Yu Sangdo                       1\n",
       "Pablo Acosta Villarreal/Mimi Webb Miller           1\n",
       "The Doctor (Doctor Who)/Rose Tyler                 1\n",
       "Name: name, Length: 1621974, dtype: int64"
      ]
     },
     "execution_count": 14,
     "metadata": {},
     "output_type": "execute_result"
    }
   ],
   "source": [
    "tag_df.name.value_counts()"
   ]
  },
  {
   "cell_type": "code",
   "execution_count": null,
   "metadata": {},
   "outputs": [],
   "source": []
  }
 ],
 "metadata": {
  "kernelspec": {
   "display_name": "Python 3",
   "language": "python",
   "name": "python3"
  },
  "language_info": {
   "codemirror_mode": {
    "name": "ipython",
    "version": 3
   },
   "file_extension": ".py",
   "mimetype": "text/x-python",
   "name": "python",
   "nbconvert_exporter": "python",
   "pygments_lexer": "ipython3",
   "version": "3.8.3"
  }
 },
 "nbformat": 4,
 "nbformat_minor": 4
}
